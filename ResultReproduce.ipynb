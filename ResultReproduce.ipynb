{
  "nbformat": 4,
  "nbformat_minor": 0,
  "metadata": {
    "colab": {
      "provenance": []
    },
    "kernelspec": {
      "name": "python3",
      "display_name": "Python 3"
    },
    "language_info": {
      "name": "python"
    }
  },
  "cells": [
    {
      "cell_type": "code",
      "execution_count": 8,
      "metadata": {
        "colab": {
          "base_uri": "https://localhost:8080/"
        },
        "id": "cIqwXWwFPR6r",
        "outputId": "30023c03-b3d4-4285-c34d-b8202346682e"
      },
      "outputs": [
        {
          "output_type": "stream",
          "name": "stdout",
          "text": [
            "1D Array: [ 7  8  9 10 11 12 13 14 15 16 17 18 19 20 21 22 23 24 25 26 27 28 29 30\n",
            " 31 32 33 34 35 36]\n",
            "4x5 Matrix:\n",
            " [[ 7  8  9 10 11 12]\n",
            " [13 14 15 16 17 18]\n",
            " [19 20 21 22 23 24]\n",
            " [25 26 27 28 29 30]\n",
            " [31 32 33 34 35 36]]\n",
            "Mean: 21.5\n",
            "Median: 21.5\n",
            "Standard Deviation: 8.65544144839919\n",
            "Addition: [38 40 42 44 46 48 50 52 54 56 58 60 62 64 66 68 70 72 74 76 78 80 82 84\n",
            " 86 88 90 92 94 96]\n",
            "Multiplication: [ 217  256  297  340  385  432  481  532  585  640  697  756  817  880\n",
            "  945 1012 1081 1152 1225 1300 1377 1456 1537 1620 1705 1792 1881 1972\n",
            " 2065 2160]\n"
          ]
        }
      ],
      "source": [
        "import numpy as np\n",
        "\n",
        "# Create 1D array\n",
        "arr = np.arange(7, 37)\n",
        "print('1D Array:', arr)\n",
        "\n",
        "# Reshape to 4x5 matrix\n",
        "matrix = arr.reshape(5, 6)\n",
        "print('4x5 Matrix:\\n', matrix)\n",
        "\n",
        "# Mean, Median, Std\n",
        "print('Mean:', np.mean(arr))\n",
        "print('Median:', np.median(arr))\n",
        "print('Standard Deviation:', np.std(arr))\n",
        "\n",
        "# Element-wise operations\n",
        "arr2 = np.arange(31, 61)\n",
        "print('Addition:', arr + arr2)\n",
        "print('Multiplication:', arr * arr2)\n"
      ]
    }
  ]
}