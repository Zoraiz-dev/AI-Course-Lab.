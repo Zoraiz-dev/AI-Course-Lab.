{
  "nbformat": 4,
  "nbformat_minor": 0,
  "metadata": {
    "colab": {
      "provenance": []
    },
    "kernelspec": {
      "name": "python3",
      "display_name": "Python 3"
    },
    "language_info": {
      "name": "python"
    }
  },
  "cells": [
    {
      "cell_type": "code",
      "execution_count": 16,
      "metadata": {
        "colab": {
          "base_uri": "https://localhost:8080/"
        },
        "id": "WBNbxI5lCkot",
        "outputId": "22906518-1ac6-4a8f-dd81-a0e8c977dc24"
      },
      "outputs": [
        {
          "output_type": "stream",
          "name": "stdout",
          "text": [
            "orignal List [10, 23, 5, 89, 45, 67, 34, 22, 11, 90]\n",
            "Sum: 396\n",
            "Max: 90\n",
            "Min: 5\n",
            "Update List: [10, 5, 89, 45, 67, 34, 22, 11, 90, 50]\n",
            "Ascending: [5, 10, 11, 22, 34, 45, 50, 67, 89, 90]\n",
            "Descending: [90, 89, 67, 50, 45, 34, 22, 11, 10, 5]\n",
            "Tuple ('Apple', 'Banana', 'Orange', 'Mango', 'Kiwi')\n",
            "Second_Element Banana\n",
            "Last_Element Kiwi\n",
            "Modified_List: ['Apple', 'Banana', 'Avacado', 'Mango', 'Kiwi']\n",
            "Union {1, 2, 3, 4, 5, 6, 7, 8}\n",
            "Intersection {4, 5}\n",
            "Difference {1, 2, 3}\n",
            "Dictionary :  {'Zoraiz': 85, 'Naima': 90, 'Ahmad': 78, 'Aqsa': 92, 'Umar': 89}\n",
            "Keys dict_keys(['Zoraiz', 'Naima', 'Ahmad', 'Aqsa', 'Umar'])\n",
            "Values dict_values([85, 90, 78, 92, 89])\n",
            "Updated Dictionary: {'Zoraiz': 100, 'Naima': 90, 'Ahmad': 78, 'Aqsa': 92, 'Umar': 89}\n"
          ]
        }
      ],
      "source": [
        "from typing import Tuple\n",
        "# create a list of integers\n",
        "numbers = [10, 23, 5, 89, 45, 67, 34, 22, 11, 90]\n",
        "\n",
        "print('orignal List', numbers)\n",
        "\n",
        "# Sum, Max, and min\n",
        "print('Sum:', sum(numbers))\n",
        "print('Max:', max(numbers))\n",
        "print('Min:', min(numbers))\n",
        "\n",
        "# Add and Remove elemnet\n",
        "numbers.append(50)\n",
        "numbers.remove(23)\n",
        "print('Update List:', numbers)\n",
        "\n",
        "# Sort ascending and descending\n",
        "print('Ascending:', sorted(numbers))\n",
        "print('Descending:', sorted(numbers, reverse=True))\n",
        "\n",
        "# Tuple with 5 String\n",
        "Fruit = ('Apple', 'Banana', 'Orange', 'Mango', 'Kiwi')\n",
        "print('Tuple', Fruit)\n",
        "print('Second_Element', Fruit[1])\n",
        "print('Last_Element', Fruit[-1])\n",
        "\n",
        "# For Modification lets convert Tuple into list\n",
        "fruit_list = list(Fruit)\n",
        "fruit_list[2] = 'Avacado'\n",
        "print('Modified_List:', fruit_list)\n",
        "\n",
        "# Sets with Some Common and Unique Elements (Union , Intersection, Difference )\n",
        "set_a = {1, 2, 3, 4, 5}\n",
        "set_b = {4, 5, 6, 7, 8}\n",
        "\n",
        "print('Union', set_a | set_b)\n",
        "print('Intersection', set_a & set_b)\n",
        "print('Difference', set_a - set_b)\n",
        "\n",
        "# Create Dictionary\n",
        "Students = {'Zoraiz': 85, 'Naima': 90, 'Ahmad': 78, 'Aqsa': 92, 'Umar': 89}\n",
        "print('Dictionary : ', Students)\n",
        "\n",
        "# Print Keys and Values\n",
        "print('Keys', Students.keys())\n",
        "print('Values', Students.values())\n",
        "\n",
        "# Update Value\n",
        "Students['Zoraiz'] = 100\n",
        "print('Updated Dictionary:', Students)\n",
        "\n",
        "\n"
      ]
    }
  ]
}